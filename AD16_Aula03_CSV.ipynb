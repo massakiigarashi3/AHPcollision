{
  "nbformat": 4,
  "nbformat_minor": 0,
  "metadata": {
    "colab": {
      "name": "AD16_Aula03_CSV.ipynb",
      "provenance": [],
      "collapsed_sections": [],
      "toc_visible": true,
      "include_colab_link": true
    },
    "kernelspec": {
      "name": "python3",
      "display_name": "Python 3"
    },
    "language_info": {
      "name": "python"
    }
  },
  "cells": [
    {
      "cell_type": "markdown",
      "metadata": {
        "id": "view-in-github",
        "colab_type": "text"
      },
      "source": [
        "<a href=\"https://colab.research.google.com/github/massakiigarashi3/AHPcollision/blob/main/AD16_Aula03_CSV.ipynb\" target=\"_parent\"><img src=\"https://colab.research.google.com/assets/colab-badge.svg\" alt=\"Open In Colab\"/></a>"
      ]
    },
    {
      "cell_type": "markdown",
      "metadata": {
        "id": "BOG45wccW58s"
      },
      "source": [
        "Base de Dados"
      ]
    },
    {
      "cell_type": "markdown",
      "metadata": {
        "id": "Fi3m6PL5Xcws"
      },
      "source": [
        "* Primeiro, precisa rodar o código abaixo. Aparecerá um link, basta clicar que irá abrir uma outra página. Selecione a conta do gmail. Aparecerá um código. Basta copiar o código e colar no campo que apareceu neste notebook."
      ]
    },
    {
      "cell_type": "code",
      "metadata": {
        "colab": {
          "base_uri": "https://localhost:8080/"
        },
        "id": "_-a85W6uW7ay",
        "outputId": "54cdaf7a-5757-4a14-9ba4-e4d032e90318"
      },
      "source": [
        "from google.colab import drive\n",
        "drive.mount('/content/drive')"
      ],
      "execution_count": null,
      "outputs": [
        {
          "output_type": "stream",
          "text": [
            "Mounted at /content/drive\n"
          ],
          "name": "stdout"
        }
      ]
    },
    {
      "cell_type": "markdown",
      "metadata": {
        "id": "QZl-CxYNXvwr"
      },
      "source": [
        "* Depois, selecione o ícone da pasta no menu lateral esquerdo do notebook. Existirá uma pasta chamada drive, com os arquivos do seu drive. Encontre o caminho do csv e adicione na variável path abaixo."
      ]
    },
    {
      "cell_type": "code",
      "metadata": {
        "id": "uPTeyBJHXRls"
      },
      "source": [
        "path = '/content/drive/MyDrive/MovimentoFinanceiroCSV.csv'"
      ],
      "execution_count": null,
      "outputs": []
    },
    {
      "cell_type": "markdown",
      "metadata": {
        "id": "K1edZBvSYIZ2"
      },
      "source": [
        "* Leia o csv com o pandas. Precisa mudar o separador (parâmetro sep) e o encoding."
      ]
    },
    {
      "cell_type": "code",
      "metadata": {
        "colab": {
          "base_uri": "https://localhost:8080/",
          "height": 357
        },
        "id": "Lkief2p9YHdA",
        "outputId": "a7d85b97-47f9-4080-bbd1-ef5dd27564d0"
      },
      "source": [
        "import pandas as pd\n",
        "path = '/content/drive/MyDrive/MovimentoFinanceiroCSV.csv'\n",
        "df = pd.read_csv(path, sep=';', encoding = \"ISO-8859-1\")\n",
        "df"
      ],
      "execution_count": null,
      "outputs": [
        {
          "output_type": "error",
          "ename": "FileNotFoundError",
          "evalue": "ignored",
          "traceback": [
            "\u001b[0;31m---------------------------------------------------------------------------\u001b[0m",
            "\u001b[0;31mFileNotFoundError\u001b[0m                         Traceback (most recent call last)",
            "\u001b[0;32m<ipython-input-3-0048233b1976>\u001b[0m in \u001b[0;36m<module>\u001b[0;34m()\u001b[0m\n\u001b[1;32m      1\u001b[0m \u001b[0;32mimport\u001b[0m \u001b[0mpandas\u001b[0m \u001b[0;32mas\u001b[0m \u001b[0mpd\u001b[0m\u001b[0;34m\u001b[0m\u001b[0;34m\u001b[0m\u001b[0m\n\u001b[1;32m      2\u001b[0m \u001b[0mpath\u001b[0m \u001b[0;34m=\u001b[0m \u001b[0;34m'/content/drive/MyDrive/MovimentoFinanceiroCSV.csv'\u001b[0m\u001b[0;34m\u001b[0m\u001b[0;34m\u001b[0m\u001b[0m\n\u001b[0;32m----> 3\u001b[0;31m \u001b[0mdf\u001b[0m \u001b[0;34m=\u001b[0m \u001b[0mpd\u001b[0m\u001b[0;34m.\u001b[0m\u001b[0mread_csv\u001b[0m\u001b[0;34m(\u001b[0m\u001b[0mpath\u001b[0m\u001b[0;34m,\u001b[0m \u001b[0msep\u001b[0m\u001b[0;34m=\u001b[0m\u001b[0;34m';'\u001b[0m\u001b[0;34m,\u001b[0m \u001b[0mencoding\u001b[0m \u001b[0;34m=\u001b[0m \u001b[0;34m\"ISO-8859-1\"\u001b[0m\u001b[0;34m)\u001b[0m\u001b[0;34m\u001b[0m\u001b[0;34m\u001b[0m\u001b[0m\n\u001b[0m\u001b[1;32m      4\u001b[0m \u001b[0mdf\u001b[0m\u001b[0;34m\u001b[0m\u001b[0;34m\u001b[0m\u001b[0m\n",
            "\u001b[0;32m/usr/local/lib/python3.7/dist-packages/pandas/io/parsers.py\u001b[0m in \u001b[0;36mread_csv\u001b[0;34m(filepath_or_buffer, sep, delimiter, header, names, index_col, usecols, squeeze, prefix, mangle_dupe_cols, dtype, engine, converters, true_values, false_values, skipinitialspace, skiprows, skipfooter, nrows, na_values, keep_default_na, na_filter, verbose, skip_blank_lines, parse_dates, infer_datetime_format, keep_date_col, date_parser, dayfirst, cache_dates, iterator, chunksize, compression, thousands, decimal, lineterminator, quotechar, quoting, doublequote, escapechar, comment, encoding, dialect, error_bad_lines, warn_bad_lines, delim_whitespace, low_memory, memory_map, float_precision)\u001b[0m\n\u001b[1;32m    686\u001b[0m     )\n\u001b[1;32m    687\u001b[0m \u001b[0;34m\u001b[0m\u001b[0m\n\u001b[0;32m--> 688\u001b[0;31m     \u001b[0;32mreturn\u001b[0m \u001b[0m_read\u001b[0m\u001b[0;34m(\u001b[0m\u001b[0mfilepath_or_buffer\u001b[0m\u001b[0;34m,\u001b[0m \u001b[0mkwds\u001b[0m\u001b[0;34m)\u001b[0m\u001b[0;34m\u001b[0m\u001b[0;34m\u001b[0m\u001b[0m\n\u001b[0m\u001b[1;32m    689\u001b[0m \u001b[0;34m\u001b[0m\u001b[0m\n\u001b[1;32m    690\u001b[0m \u001b[0;34m\u001b[0m\u001b[0m\n",
            "\u001b[0;32m/usr/local/lib/python3.7/dist-packages/pandas/io/parsers.py\u001b[0m in \u001b[0;36m_read\u001b[0;34m(filepath_or_buffer, kwds)\u001b[0m\n\u001b[1;32m    452\u001b[0m \u001b[0;34m\u001b[0m\u001b[0m\n\u001b[1;32m    453\u001b[0m     \u001b[0;31m# Create the parser.\u001b[0m\u001b[0;34m\u001b[0m\u001b[0;34m\u001b[0m\u001b[0;34m\u001b[0m\u001b[0m\n\u001b[0;32m--> 454\u001b[0;31m     \u001b[0mparser\u001b[0m \u001b[0;34m=\u001b[0m \u001b[0mTextFileReader\u001b[0m\u001b[0;34m(\u001b[0m\u001b[0mfp_or_buf\u001b[0m\u001b[0;34m,\u001b[0m \u001b[0;34m**\u001b[0m\u001b[0mkwds\u001b[0m\u001b[0;34m)\u001b[0m\u001b[0;34m\u001b[0m\u001b[0;34m\u001b[0m\u001b[0m\n\u001b[0m\u001b[1;32m    455\u001b[0m \u001b[0;34m\u001b[0m\u001b[0m\n\u001b[1;32m    456\u001b[0m     \u001b[0;32mif\u001b[0m \u001b[0mchunksize\u001b[0m \u001b[0;32mor\u001b[0m \u001b[0miterator\u001b[0m\u001b[0;34m:\u001b[0m\u001b[0;34m\u001b[0m\u001b[0;34m\u001b[0m\u001b[0m\n",
            "\u001b[0;32m/usr/local/lib/python3.7/dist-packages/pandas/io/parsers.py\u001b[0m in \u001b[0;36m__init__\u001b[0;34m(self, f, engine, **kwds)\u001b[0m\n\u001b[1;32m    946\u001b[0m             \u001b[0mself\u001b[0m\u001b[0;34m.\u001b[0m\u001b[0moptions\u001b[0m\u001b[0;34m[\u001b[0m\u001b[0;34m\"has_index_names\"\u001b[0m\u001b[0;34m]\u001b[0m \u001b[0;34m=\u001b[0m \u001b[0mkwds\u001b[0m\u001b[0;34m[\u001b[0m\u001b[0;34m\"has_index_names\"\u001b[0m\u001b[0;34m]\u001b[0m\u001b[0;34m\u001b[0m\u001b[0;34m\u001b[0m\u001b[0m\n\u001b[1;32m    947\u001b[0m \u001b[0;34m\u001b[0m\u001b[0m\n\u001b[0;32m--> 948\u001b[0;31m         \u001b[0mself\u001b[0m\u001b[0;34m.\u001b[0m\u001b[0m_make_engine\u001b[0m\u001b[0;34m(\u001b[0m\u001b[0mself\u001b[0m\u001b[0;34m.\u001b[0m\u001b[0mengine\u001b[0m\u001b[0;34m)\u001b[0m\u001b[0;34m\u001b[0m\u001b[0;34m\u001b[0m\u001b[0m\n\u001b[0m\u001b[1;32m    949\u001b[0m \u001b[0;34m\u001b[0m\u001b[0m\n\u001b[1;32m    950\u001b[0m     \u001b[0;32mdef\u001b[0m \u001b[0mclose\u001b[0m\u001b[0;34m(\u001b[0m\u001b[0mself\u001b[0m\u001b[0;34m)\u001b[0m\u001b[0;34m:\u001b[0m\u001b[0;34m\u001b[0m\u001b[0;34m\u001b[0m\u001b[0m\n",
            "\u001b[0;32m/usr/local/lib/python3.7/dist-packages/pandas/io/parsers.py\u001b[0m in \u001b[0;36m_make_engine\u001b[0;34m(self, engine)\u001b[0m\n\u001b[1;32m   1178\u001b[0m     \u001b[0;32mdef\u001b[0m \u001b[0m_make_engine\u001b[0m\u001b[0;34m(\u001b[0m\u001b[0mself\u001b[0m\u001b[0;34m,\u001b[0m \u001b[0mengine\u001b[0m\u001b[0;34m=\u001b[0m\u001b[0;34m\"c\"\u001b[0m\u001b[0;34m)\u001b[0m\u001b[0;34m:\u001b[0m\u001b[0;34m\u001b[0m\u001b[0;34m\u001b[0m\u001b[0m\n\u001b[1;32m   1179\u001b[0m         \u001b[0;32mif\u001b[0m \u001b[0mengine\u001b[0m \u001b[0;34m==\u001b[0m \u001b[0;34m\"c\"\u001b[0m\u001b[0;34m:\u001b[0m\u001b[0;34m\u001b[0m\u001b[0;34m\u001b[0m\u001b[0m\n\u001b[0;32m-> 1180\u001b[0;31m             \u001b[0mself\u001b[0m\u001b[0;34m.\u001b[0m\u001b[0m_engine\u001b[0m \u001b[0;34m=\u001b[0m \u001b[0mCParserWrapper\u001b[0m\u001b[0;34m(\u001b[0m\u001b[0mself\u001b[0m\u001b[0;34m.\u001b[0m\u001b[0mf\u001b[0m\u001b[0;34m,\u001b[0m \u001b[0;34m**\u001b[0m\u001b[0mself\u001b[0m\u001b[0;34m.\u001b[0m\u001b[0moptions\u001b[0m\u001b[0;34m)\u001b[0m\u001b[0;34m\u001b[0m\u001b[0;34m\u001b[0m\u001b[0m\n\u001b[0m\u001b[1;32m   1181\u001b[0m         \u001b[0;32melse\u001b[0m\u001b[0;34m:\u001b[0m\u001b[0;34m\u001b[0m\u001b[0;34m\u001b[0m\u001b[0m\n\u001b[1;32m   1182\u001b[0m             \u001b[0;32mif\u001b[0m \u001b[0mengine\u001b[0m \u001b[0;34m==\u001b[0m \u001b[0;34m\"python\"\u001b[0m\u001b[0;34m:\u001b[0m\u001b[0;34m\u001b[0m\u001b[0;34m\u001b[0m\u001b[0m\n",
            "\u001b[0;32m/usr/local/lib/python3.7/dist-packages/pandas/io/parsers.py\u001b[0m in \u001b[0;36m__init__\u001b[0;34m(self, src, **kwds)\u001b[0m\n\u001b[1;32m   1991\u001b[0m         \u001b[0;32mif\u001b[0m \u001b[0mkwds\u001b[0m\u001b[0;34m.\u001b[0m\u001b[0mget\u001b[0m\u001b[0;34m(\u001b[0m\u001b[0;34m\"compression\"\u001b[0m\u001b[0;34m)\u001b[0m \u001b[0;32mis\u001b[0m \u001b[0;32mNone\u001b[0m \u001b[0;32mand\u001b[0m \u001b[0mencoding\u001b[0m\u001b[0;34m:\u001b[0m\u001b[0;34m\u001b[0m\u001b[0;34m\u001b[0m\u001b[0m\n\u001b[1;32m   1992\u001b[0m             \u001b[0;32mif\u001b[0m \u001b[0misinstance\u001b[0m\u001b[0;34m(\u001b[0m\u001b[0msrc\u001b[0m\u001b[0;34m,\u001b[0m \u001b[0mstr\u001b[0m\u001b[0;34m)\u001b[0m\u001b[0;34m:\u001b[0m\u001b[0;34m\u001b[0m\u001b[0;34m\u001b[0m\u001b[0m\n\u001b[0;32m-> 1993\u001b[0;31m                 \u001b[0msrc\u001b[0m \u001b[0;34m=\u001b[0m \u001b[0mopen\u001b[0m\u001b[0;34m(\u001b[0m\u001b[0msrc\u001b[0m\u001b[0;34m,\u001b[0m \u001b[0;34m\"rb\"\u001b[0m\u001b[0;34m)\u001b[0m\u001b[0;34m\u001b[0m\u001b[0;34m\u001b[0m\u001b[0m\n\u001b[0m\u001b[1;32m   1994\u001b[0m                 \u001b[0mself\u001b[0m\u001b[0;34m.\u001b[0m\u001b[0mhandles\u001b[0m\u001b[0;34m.\u001b[0m\u001b[0mappend\u001b[0m\u001b[0;34m(\u001b[0m\u001b[0msrc\u001b[0m\u001b[0;34m)\u001b[0m\u001b[0;34m\u001b[0m\u001b[0;34m\u001b[0m\u001b[0m\n\u001b[1;32m   1995\u001b[0m \u001b[0;34m\u001b[0m\u001b[0m\n",
            "\u001b[0;31mFileNotFoundError\u001b[0m: [Errno 2] No such file or directory: '/content/drive/MyDrive/MovimentoFinanceiroCSV.csv'"
          ]
        }
      ]
    },
    {
      "cell_type": "markdown",
      "metadata": {
        "id": "RPlrSncvZK_z"
      },
      "source": [
        "* Acho que os nomes da coluna deveriam ser os dados da linha 1 (Data, Amostra ...), então alterei abaixo."
      ]
    },
    {
      "cell_type": "code",
      "metadata": {
        "colab": {
          "base_uri": "https://localhost:8080/",
          "height": 1000
        },
        "id": "XI_jC4CIYNV1",
        "outputId": "7ab783c7-05c9-4a66-f445-c2ebb658ff31"
      },
      "source": [
        "names = df.iloc[1, :].values\n",
        "df = df.iloc[2:, :]\n",
        "df.columns = names\n",
        "df"
      ],
      "execution_count": null,
      "outputs": [
        {
          "output_type": "execute_result",
          "data": {
            "text/html": [
              "<div>\n",
              "<style scoped>\n",
              "    .dataframe tbody tr th:only-of-type {\n",
              "        vertical-align: middle;\n",
              "    }\n",
              "\n",
              "    .dataframe tbody tr th {\n",
              "        vertical-align: top;\n",
              "    }\n",
              "\n",
              "    .dataframe thead th {\n",
              "        text-align: right;\n",
              "    }\n",
              "</style>\n",
              "<table border=\"1\" class=\"dataframe\">\n",
              "  <thead>\n",
              "    <tr style=\"text-align: right;\">\n",
              "      <th></th>\n",
              "      <th>Data</th>\n",
              "      <th>Projeto</th>\n",
              "      <th>Item</th>\n",
              "      <th>Categoria</th>\n",
              "      <th>E/S</th>\n",
              "      <th>Valor</th>\n",
              "      <th>Estado</th>\n",
              "    </tr>\n",
              "  </thead>\n",
              "  <tbody>\n",
              "    <tr>\n",
              "      <th>2</th>\n",
              "      <td>01/10/2010</td>\n",
              "      <td>Mineradora Crescente</td>\n",
              "      <td>Empréstimo Banco Verde</td>\n",
              "      <td>Empréstimos</td>\n",
              "      <td>Entrada</td>\n",
              "      <td>R$ 380.000,00</td>\n",
              "      <td>Santa Catarina</td>\n",
              "    </tr>\n",
              "    <tr>\n",
              "      <th>3</th>\n",
              "      <td>01/10/2010</td>\n",
              "      <td>Mineradora Crescente</td>\n",
              "      <td>Investimento - captação em Bolsa</td>\n",
              "      <td>Dinheiro Dos Sócios</td>\n",
              "      <td>Entrada</td>\n",
              "      <td>R$ 1.200.000,00</td>\n",
              "      <td>Santa Catarina</td>\n",
              "    </tr>\n",
              "    <tr>\n",
              "      <th>4</th>\n",
              "      <td>04/10/2010</td>\n",
              "      <td>Mineradora Crescente</td>\n",
              "      <td>Compra de Retroescavadeira</td>\n",
              "      <td>Compras À Vista</td>\n",
              "      <td>Saída</td>\n",
              "      <td>R$ 300.000,00</td>\n",
              "      <td>Santa Catarina</td>\n",
              "    </tr>\n",
              "    <tr>\n",
              "      <th>5</th>\n",
              "      <td>04/10/2010</td>\n",
              "      <td>Gasoduto Oeste</td>\n",
              "      <td>Subscrição de ações</td>\n",
              "      <td>Dinheiro Dos Sócios</td>\n",
              "      <td>Entrada</td>\n",
              "      <td>R$ 3.000.000,00</td>\n",
              "      <td>Rio de Janeiro</td>\n",
              "    </tr>\n",
              "    <tr>\n",
              "      <th>6</th>\n",
              "      <td>05/10/2010</td>\n",
              "      <td>Siderúrgica Horizonte</td>\n",
              "      <td>Venda de ações</td>\n",
              "      <td>Dinheiro Dos Sócios</td>\n",
              "      <td>Entrada</td>\n",
              "      <td>R$ 4.300.000,00</td>\n",
              "      <td>Minas Gerais</td>\n",
              "    </tr>\n",
              "    <tr>\n",
              "      <th>7</th>\n",
              "      <td>06/10/2010</td>\n",
              "      <td>Fertilizantes Clima</td>\n",
              "      <td>Empréstimo Banco Amarelo</td>\n",
              "      <td>Empréstimos</td>\n",
              "      <td>Entrada</td>\n",
              "      <td>R$ 600.000,00</td>\n",
              "      <td>São Paulo</td>\n",
              "    </tr>\n",
              "    <tr>\n",
              "      <th>8</th>\n",
              "      <td>15/10/2010</td>\n",
              "      <td>Água Preta Telecomunicações</td>\n",
              "      <td>Recebimento Clientes - outubro</td>\n",
              "      <td>Contas A Receber</td>\n",
              "      <td>Entrada</td>\n",
              "      <td>R$ 326.000,00</td>\n",
              "      <td>Rio de Janeiro</td>\n",
              "    </tr>\n",
              "    <tr>\n",
              "      <th>9</th>\n",
              "      <td>20/10/2001</td>\n",
              "      <td>Siderúrgica Horizonte</td>\n",
              "      <td>Pagamento Fornecedores - outubro</td>\n",
              "      <td>Contas A Pagar</td>\n",
              "      <td>Saída</td>\n",
              "      <td>R$ 213.000,00</td>\n",
              "      <td>Minas Gerais</td>\n",
              "    </tr>\n",
              "    <tr>\n",
              "      <th>10</th>\n",
              "      <td>25/10/2010</td>\n",
              "      <td>Fertilizantes Clima</td>\n",
              "      <td>Captação de recursos - subscrição de ações</td>\n",
              "      <td>Dinheiro Dos Sócios</td>\n",
              "      <td>Entrada</td>\n",
              "      <td>R$ 900.000,00</td>\n",
              "      <td>São Paulo</td>\n",
              "    </tr>\n",
              "    <tr>\n",
              "      <th>11</th>\n",
              "      <td>29/10/2010</td>\n",
              "      <td>Água Preta Telecomunicações</td>\n",
              "      <td>Pagamento Fornecedores - outubro</td>\n",
              "      <td>Contas A Pagar</td>\n",
              "      <td>Saída</td>\n",
              "      <td>R$ 98.000,00</td>\n",
              "      <td>Rio de Janeiro</td>\n",
              "    </tr>\n",
              "    <tr>\n",
              "      <th>12</th>\n",
              "      <td>04/11/2010</td>\n",
              "      <td>Mineradora Crescente</td>\n",
              "      <td>Recebimento Clientes - novembro</td>\n",
              "      <td>Contas A Receber</td>\n",
              "      <td>Entrada</td>\n",
              "      <td>R$ 313.000,00</td>\n",
              "      <td>Santa Catarina</td>\n",
              "    </tr>\n",
              "    <tr>\n",
              "      <th>13</th>\n",
              "      <td>09/11/2010</td>\n",
              "      <td>Gasoduto Oeste</td>\n",
              "      <td>Pagamento Banco Vermelho</td>\n",
              "      <td>Pagamento De Empréstimos</td>\n",
              "      <td>Saída</td>\n",
              "      <td>R$ 125.000,00</td>\n",
              "      <td>Rio de Janeiro</td>\n",
              "    </tr>\n",
              "    <tr>\n",
              "      <th>14</th>\n",
              "      <td>17/11/2010</td>\n",
              "      <td>Siderúrgica Horizonte</td>\n",
              "      <td>Material de escritório</td>\n",
              "      <td>Despesas Gerais De Administração</td>\n",
              "      <td>Saída</td>\n",
              "      <td>R$ 7.200,00</td>\n",
              "      <td>Minas Gerais</td>\n",
              "    </tr>\n",
              "    <tr>\n",
              "      <th>15</th>\n",
              "      <td>01/12/2010</td>\n",
              "      <td>Fertilizantes Clima</td>\n",
              "      <td>Pagamento Banco Amarelo</td>\n",
              "      <td>Pagamento De Empréstimos</td>\n",
              "      <td>Saída</td>\n",
              "      <td>R$ 40.000,00</td>\n",
              "      <td>São Paulo</td>\n",
              "    </tr>\n",
              "    <tr>\n",
              "      <th>16</th>\n",
              "      <td>03/12/2010</td>\n",
              "      <td>Água Preta Telecomunicações</td>\n",
              "      <td>Recebimento duplicatas - dezembro</td>\n",
              "      <td>Contas A Receber</td>\n",
              "      <td>Entrada</td>\n",
              "      <td>R$ 178.000,00</td>\n",
              "      <td>Rio de Janeiro</td>\n",
              "    </tr>\n",
              "    <tr>\n",
              "      <th>17</th>\n",
              "      <td>10/12/2010</td>\n",
              "      <td>Siderúrgica Horizonte</td>\n",
              "      <td>Duplicatas - dezembro</td>\n",
              "      <td>Contas A Receber</td>\n",
              "      <td>Entrada</td>\n",
              "      <td>R$ 380.000,00</td>\n",
              "      <td>Minas Gerais</td>\n",
              "    </tr>\n",
              "    <tr>\n",
              "      <th>18</th>\n",
              "      <td>20/12/2010</td>\n",
              "      <td>Água Preta Telecomunicações</td>\n",
              "      <td>Água, Luz, Telefone e outros</td>\n",
              "      <td>Despesas Gerais De Administração</td>\n",
              "      <td>Saída</td>\n",
              "      <td>R$ 53.000,00</td>\n",
              "      <td>Rio de Janeiro</td>\n",
              "    </tr>\n",
              "    <tr>\n",
              "      <th>19</th>\n",
              "      <td>23/12/2010</td>\n",
              "      <td>Água Preta Telecomunicações</td>\n",
              "      <td>Emprestimo Banco Amarelo</td>\n",
              "      <td>Empréstimos</td>\n",
              "      <td>Entrada</td>\n",
              "      <td>R$ 400.000,00</td>\n",
              "      <td>Rio de Janeiro</td>\n",
              "    </tr>\n",
              "    <tr>\n",
              "      <th>20</th>\n",
              "      <td>05/01/2011</td>\n",
              "      <td>Fertilizantes Clima</td>\n",
              "      <td>Duplicatas</td>\n",
              "      <td>Contas A Receber</td>\n",
              "      <td>Entrada</td>\n",
              "      <td>R$ 230.000,00</td>\n",
              "      <td>São Paulo</td>\n",
              "    </tr>\n",
              "    <tr>\n",
              "      <th>21</th>\n",
              "      <td>07/01/2011</td>\n",
              "      <td>Fertilizantes Clima</td>\n",
              "      <td>Fornecedores - vários</td>\n",
              "      <td>Contas A Pagar</td>\n",
              "      <td>Saída</td>\n",
              "      <td>R$ 178.000,00</td>\n",
              "      <td>São Paulo</td>\n",
              "    </tr>\n",
              "    <tr>\n",
              "      <th>22</th>\n",
              "      <td>10/01/2011</td>\n",
              "      <td>Gasoduto Oeste</td>\n",
              "      <td>Duplicatas</td>\n",
              "      <td>Contas A Receber</td>\n",
              "      <td>Entrada</td>\n",
              "      <td>R$ 300.000,00</td>\n",
              "      <td>Rio de Janeiro</td>\n",
              "    </tr>\n",
              "    <tr>\n",
              "      <th>23</th>\n",
              "      <td>10/01/2011</td>\n",
              "      <td>Siderúrgica Horizonte</td>\n",
              "      <td>Duplicatas</td>\n",
              "      <td>Contas A Receber</td>\n",
              "      <td>Entrada</td>\n",
              "      <td>R$ 400.000,00</td>\n",
              "      <td>Minas Gerais</td>\n",
              "    </tr>\n",
              "    <tr>\n",
              "      <th>24</th>\n",
              "      <td>18/01/2011</td>\n",
              "      <td>Siderúrgica Horizonte</td>\n",
              "      <td>Fornecedores - vários</td>\n",
              "      <td>Contas A Pagar</td>\n",
              "      <td>Saída</td>\n",
              "      <td>R$ 123.000,00</td>\n",
              "      <td>Minas Gerais</td>\n",
              "    </tr>\n",
              "    <tr>\n",
              "      <th>25</th>\n",
              "      <td>20/01/2011</td>\n",
              "      <td>Mineradora Crescente</td>\n",
              "      <td>Duplicatas</td>\n",
              "      <td>Contas A Receber</td>\n",
              "      <td>Entrada</td>\n",
              "      <td>R$ 450.000,00</td>\n",
              "      <td>Santa Catarina</td>\n",
              "    </tr>\n",
              "    <tr>\n",
              "      <th>26</th>\n",
              "      <td>04/02/2011</td>\n",
              "      <td>Mineradora Crescente</td>\n",
              "      <td>Fornecedores - vários</td>\n",
              "      <td>Contas A Pagar</td>\n",
              "      <td>Saída</td>\n",
              "      <td>R$ 230.000,00</td>\n",
              "      <td>Santa Catarina</td>\n",
              "    </tr>\n",
              "    <tr>\n",
              "      <th>27</th>\n",
              "      <td>08/02/2011</td>\n",
              "      <td>Gasoduto Oeste</td>\n",
              "      <td>Duplicatas</td>\n",
              "      <td>Contas A Receber</td>\n",
              "      <td>Entrada</td>\n",
              "      <td>R$ 670.000,00</td>\n",
              "      <td>Rio de Janeiro</td>\n",
              "    </tr>\n",
              "    <tr>\n",
              "      <th>28</th>\n",
              "      <td>15/02/2011</td>\n",
              "      <td>Gasoduto Oeste</td>\n",
              "      <td>Fornecedores - vários</td>\n",
              "      <td>Contas A Pagar</td>\n",
              "      <td>Saída</td>\n",
              "      <td>R$ 230.000,00</td>\n",
              "      <td>Rio de Janeiro</td>\n",
              "    </tr>\n",
              "    <tr>\n",
              "      <th>29</th>\n",
              "      <td>21/02/2011</td>\n",
              "      <td>Fertilizantes Clima</td>\n",
              "      <td>Material de escritório</td>\n",
              "      <td>Despesas Gerais De Administração</td>\n",
              "      <td>Saída</td>\n",
              "      <td>R$ 5.600,00</td>\n",
              "      <td>São Paulo</td>\n",
              "    </tr>\n",
              "    <tr>\n",
              "      <th>30</th>\n",
              "      <td>10/03/2011</td>\n",
              "      <td>Fertilizantes Clima</td>\n",
              "      <td>Pagamento Empréstimo Banco Amarelo</td>\n",
              "      <td>Pagamento De Empréstimos</td>\n",
              "      <td>Saída</td>\n",
              "      <td>R$ 111.000,00</td>\n",
              "      <td>São Paulo</td>\n",
              "    </tr>\n",
              "    <tr>\n",
              "      <th>31</th>\n",
              "      <td>15/03/2011</td>\n",
              "      <td>Água Preta Telecomunicações</td>\n",
              "      <td>Reposição de estoque - vários itens</td>\n",
              "      <td>Compras À Vista</td>\n",
              "      <td>Saída</td>\n",
              "      <td>R$ 211.000,00</td>\n",
              "      <td>Rio de Janeiro</td>\n",
              "    </tr>\n",
              "    <tr>\n",
              "      <th>32</th>\n",
              "      <td>21/03/2011</td>\n",
              "      <td>Água Preta Telecomunicações</td>\n",
              "      <td>Subscrição de ações</td>\n",
              "      <td>Dinheiro Dos Sócios</td>\n",
              "      <td>Entrada</td>\n",
              "      <td>R$ 890.000,00</td>\n",
              "      <td>Rio de Janeiro</td>\n",
              "    </tr>\n",
              "    <tr>\n",
              "      <th>33</th>\n",
              "      <td>25/03/2011</td>\n",
              "      <td>Siderúrgica Horizonte</td>\n",
              "      <td>Duplicatas</td>\n",
              "      <td>Contas A Receber</td>\n",
              "      <td>Entrada</td>\n",
              "      <td>R$ 390.000,00</td>\n",
              "      <td>Minas Gerais</td>\n",
              "    </tr>\n",
              "    <tr>\n",
              "      <th>34</th>\n",
              "      <td>25/03/2011</td>\n",
              "      <td>Siderúrgica Horizonte</td>\n",
              "      <td>Fornecedores - vários</td>\n",
              "      <td>Contas A Pagar</td>\n",
              "      <td>Saída</td>\n",
              "      <td>R$ 120.000,00</td>\n",
              "      <td>Minas Gerais</td>\n",
              "    </tr>\n",
              "    <tr>\n",
              "      <th>35</th>\n",
              "      <td>25/03/2011</td>\n",
              "      <td>Mineradora Crescente</td>\n",
              "      <td>Duplicatas</td>\n",
              "      <td>Contas A Receber</td>\n",
              "      <td>Entrada</td>\n",
              "      <td>R$ 430.000,00</td>\n",
              "      <td>Santa Catarina</td>\n",
              "    </tr>\n",
              "    <tr>\n",
              "      <th>36</th>\n",
              "      <td>01/04/2011</td>\n",
              "      <td>Gasoduto Oeste</td>\n",
              "      <td>Água, Luz, Telefone e outros</td>\n",
              "      <td>Despesas Gerais De Administração</td>\n",
              "      <td>Saída</td>\n",
              "      <td>R$ 210.000,00</td>\n",
              "      <td>Rio de Janeiro</td>\n",
              "    </tr>\n",
              "    <tr>\n",
              "      <th>37</th>\n",
              "      <td>05/04/2011</td>\n",
              "      <td>Siderúrgica Horizonte</td>\n",
              "      <td>Duplicatas</td>\n",
              "      <td>Contas A Receber</td>\n",
              "      <td>Entrada</td>\n",
              "      <td>R$ 410.000,00</td>\n",
              "      <td>Minas Gerais</td>\n",
              "    </tr>\n",
              "    <tr>\n",
              "      <th>38</th>\n",
              "      <td>05/04/2011</td>\n",
              "      <td>Fertilizantes Clima</td>\n",
              "      <td>Duplicatas</td>\n",
              "      <td>Contas A Receber</td>\n",
              "      <td>Entrada</td>\n",
              "      <td>R$ 380.000,00</td>\n",
              "      <td>São Paulo</td>\n",
              "    </tr>\n",
              "    <tr>\n",
              "      <th>39</th>\n",
              "      <td>06/04/2011</td>\n",
              "      <td>Água Preta Telecomunicações</td>\n",
              "      <td>Pagamento Banco Amarelo</td>\n",
              "      <td>Pagamento De Empréstimos</td>\n",
              "      <td>Saída</td>\n",
              "      <td>R$ 111.000,00</td>\n",
              "      <td>Rio de Janeiro</td>\n",
              "    </tr>\n",
              "    <tr>\n",
              "      <th>40</th>\n",
              "      <td>08/04/2011</td>\n",
              "      <td>Siderúrgica Horizonte</td>\n",
              "      <td>Fornecedores - vários</td>\n",
              "      <td>Contas A Pagar</td>\n",
              "      <td>Saída</td>\n",
              "      <td>R$ 135.000,00</td>\n",
              "      <td>Minas Gerais</td>\n",
              "    </tr>\n",
              "    <tr>\n",
              "      <th>41</th>\n",
              "      <td>11/04/2011</td>\n",
              "      <td>Fertilizantes Clima</td>\n",
              "      <td>Fornecedores - vários</td>\n",
              "      <td>Contas A Pagar</td>\n",
              "      <td>Saída</td>\n",
              "      <td>R$ 129.000,00</td>\n",
              "      <td>São Paulo</td>\n",
              "    </tr>\n",
              "    <tr>\n",
              "      <th>42</th>\n",
              "      <td>03/05/2011</td>\n",
              "      <td>Água Preta Telecomunicações</td>\n",
              "      <td>Duplicatas - maio</td>\n",
              "      <td>Contas A Receber</td>\n",
              "      <td>Entrada</td>\n",
              "      <td>R$ 382.000,00</td>\n",
              "      <td>Rio de Janeiro</td>\n",
              "    </tr>\n",
              "    <tr>\n",
              "      <th>43</th>\n",
              "      <td>05/05/2011</td>\n",
              "      <td>Mineradora Crescente</td>\n",
              "      <td>Fornecedores - vários</td>\n",
              "      <td>Contas A Pagar</td>\n",
              "      <td>Saída</td>\n",
              "      <td>R$ 200.000,00</td>\n",
              "      <td>Santa Catarina</td>\n",
              "    </tr>\n",
              "    <tr>\n",
              "      <th>44</th>\n",
              "      <td>05/05/2011</td>\n",
              "      <td>Gasoduto Oeste</td>\n",
              "      <td>Mantas</td>\n",
              "      <td>Compras À Vista</td>\n",
              "      <td>Saída</td>\n",
              "      <td>R$ 185.000,00</td>\n",
              "      <td>Rio de Janeiro</td>\n",
              "    </tr>\n",
              "    <tr>\n",
              "      <th>45</th>\n",
              "      <td>10/05/2011</td>\n",
              "      <td>Siderúrgica Horizonte</td>\n",
              "      <td>Duplicatas</td>\n",
              "      <td>Contas A Receber</td>\n",
              "      <td>Entrada</td>\n",
              "      <td>R$ 560.000,00</td>\n",
              "      <td>Minas Gerais</td>\n",
              "    </tr>\n",
              "    <tr>\n",
              "      <th>46</th>\n",
              "      <td>10/05/2011</td>\n",
              "      <td>Fertilizantes Clima</td>\n",
              "      <td>Silos</td>\n",
              "      <td>Compras À Vista</td>\n",
              "      <td>Saída</td>\n",
              "      <td>R$ 78.000,00</td>\n",
              "      <td>São Paulo</td>\n",
              "    </tr>\n",
              "    <tr>\n",
              "      <th>47</th>\n",
              "      <td>18/05/2011</td>\n",
              "      <td>Mineradora Crescente</td>\n",
              "      <td>Duplicatas</td>\n",
              "      <td>Contas A Receber</td>\n",
              "      <td>Entrada</td>\n",
              "      <td>R$ 590.000,00</td>\n",
              "      <td>Santa Catarina</td>\n",
              "    </tr>\n",
              "    <tr>\n",
              "      <th>48</th>\n",
              "      <td>20/05/2011</td>\n",
              "      <td>Gasoduto Oeste</td>\n",
              "      <td>Duplicatas</td>\n",
              "      <td>Contas A Receber</td>\n",
              "      <td>Entrada</td>\n",
              "      <td>R$ 760.000,00</td>\n",
              "      <td>Rio de Janeiro</td>\n",
              "    </tr>\n",
              "    <tr>\n",
              "      <th>49</th>\n",
              "      <td>20/05/2011</td>\n",
              "      <td>Siderúrgica Horizonte</td>\n",
              "      <td>Fornecedores - vários</td>\n",
              "      <td>Contas A Pagar</td>\n",
              "      <td>Saída</td>\n",
              "      <td>R$ 210.000,00</td>\n",
              "      <td>Minas Gerais</td>\n",
              "    </tr>\n",
              "    <tr>\n",
              "      <th>50</th>\n",
              "      <td>20/05/2011</td>\n",
              "      <td>Fertilizantes Clima</td>\n",
              "      <td>Fornecedores - vários</td>\n",
              "      <td>Contas A Pagar</td>\n",
              "      <td>Saída</td>\n",
              "      <td>R$ 133.000,00</td>\n",
              "      <td>São Paulo</td>\n",
              "    </tr>\n",
              "    <tr>\n",
              "      <th>51</th>\n",
              "      <td>30/05/2011</td>\n",
              "      <td>Água Preta Telecomunicações</td>\n",
              "      <td>Fornecedores - vários</td>\n",
              "      <td>Contas A Pagar</td>\n",
              "      <td>Saída</td>\n",
              "      <td>R$ 231.000,00</td>\n",
              "      <td>Rio de Janeiro</td>\n",
              "    </tr>\n",
              "    <tr>\n",
              "      <th>52</th>\n",
              "      <td>30/05/2011</td>\n",
              "      <td>Siderúrgica Horizonte</td>\n",
              "      <td>Materiais diversos</td>\n",
              "      <td>Despesas Gerais De Administração</td>\n",
              "      <td>Saída</td>\n",
              "      <td>R$ 121.000,00</td>\n",
              "      <td>Minas Gerais</td>\n",
              "    </tr>\n",
              "    <tr>\n",
              "      <th>53</th>\n",
              "      <td>10/06/2011</td>\n",
              "      <td>Fertilizantes Clima</td>\n",
              "      <td>Pagamento Empréstimo Banco Amarelo</td>\n",
              "      <td>Pagamento De Empréstimos</td>\n",
              "      <td>Saída</td>\n",
              "      <td>R$ 113.000,00</td>\n",
              "      <td>São Paulo</td>\n",
              "    </tr>\n",
              "    <tr>\n",
              "      <th>54</th>\n",
              "      <td>10/06/2011</td>\n",
              "      <td>Água Preta Telecomunicações</td>\n",
              "      <td>Pagamento Banco Amarelo</td>\n",
              "      <td>Pagamento De Empréstimos</td>\n",
              "      <td>Saída</td>\n",
              "      <td>R$ 117.000,00</td>\n",
              "      <td>Rio de Janeiro</td>\n",
              "    </tr>\n",
              "  </tbody>\n",
              "</table>\n",
              "</div>"
            ],
            "text/plain": [
              "          Data                      Projeto  ...             Valor           Estado\n",
              "2   01/10/2010         Mineradora Crescente  ...     R$ 380.000,00   Santa Catarina\n",
              "3   01/10/2010         Mineradora Crescente  ...   R$ 1.200.000,00   Santa Catarina\n",
              "4   04/10/2010         Mineradora Crescente  ...     R$ 300.000,00   Santa Catarina\n",
              "5   04/10/2010               Gasoduto Oeste  ...   R$ 3.000.000,00   Rio de Janeiro\n",
              "6   05/10/2010        Siderúrgica Horizonte  ...   R$ 4.300.000,00     Minas Gerais\n",
              "7   06/10/2010          Fertilizantes Clima  ...     R$ 600.000,00        São Paulo\n",
              "8   15/10/2010  Água Preta Telecomunicações  ...     R$ 326.000,00   Rio de Janeiro\n",
              "9   20/10/2001        Siderúrgica Horizonte  ...     R$ 213.000,00     Minas Gerais\n",
              "10  25/10/2010          Fertilizantes Clima  ...     R$ 900.000,00        São Paulo\n",
              "11  29/10/2010  Água Preta Telecomunicações  ...      R$ 98.000,00   Rio de Janeiro\n",
              "12  04/11/2010         Mineradora Crescente  ...     R$ 313.000,00   Santa Catarina\n",
              "13  09/11/2010               Gasoduto Oeste  ...     R$ 125.000,00   Rio de Janeiro\n",
              "14  17/11/2010        Siderúrgica Horizonte  ...       R$ 7.200,00     Minas Gerais\n",
              "15  01/12/2010          Fertilizantes Clima  ...      R$ 40.000,00        São Paulo\n",
              "16  03/12/2010  Água Preta Telecomunicações  ...     R$ 178.000,00   Rio de Janeiro\n",
              "17  10/12/2010        Siderúrgica Horizonte  ...     R$ 380.000,00     Minas Gerais\n",
              "18  20/12/2010  Água Preta Telecomunicações  ...      R$ 53.000,00   Rio de Janeiro\n",
              "19  23/12/2010  Água Preta Telecomunicações  ...     R$ 400.000,00   Rio de Janeiro\n",
              "20  05/01/2011          Fertilizantes Clima  ...     R$ 230.000,00        São Paulo\n",
              "21  07/01/2011          Fertilizantes Clima  ...     R$ 178.000,00        São Paulo\n",
              "22  10/01/2011               Gasoduto Oeste  ...     R$ 300.000,00   Rio de Janeiro\n",
              "23  10/01/2011        Siderúrgica Horizonte  ...     R$ 400.000,00     Minas Gerais\n",
              "24  18/01/2011        Siderúrgica Horizonte  ...     R$ 123.000,00     Minas Gerais\n",
              "25  20/01/2011         Mineradora Crescente  ...     R$ 450.000,00   Santa Catarina\n",
              "26  04/02/2011         Mineradora Crescente  ...     R$ 230.000,00   Santa Catarina\n",
              "27  08/02/2011               Gasoduto Oeste  ...     R$ 670.000,00   Rio de Janeiro\n",
              "28  15/02/2011               Gasoduto Oeste  ...     R$ 230.000,00   Rio de Janeiro\n",
              "29  21/02/2011          Fertilizantes Clima  ...       R$ 5.600,00        São Paulo\n",
              "30  10/03/2011          Fertilizantes Clima  ...     R$ 111.000,00        São Paulo\n",
              "31  15/03/2011  Água Preta Telecomunicações  ...     R$ 211.000,00   Rio de Janeiro\n",
              "32  21/03/2011  Água Preta Telecomunicações  ...     R$ 890.000,00   Rio de Janeiro\n",
              "33  25/03/2011        Siderúrgica Horizonte  ...     R$ 390.000,00     Minas Gerais\n",
              "34  25/03/2011        Siderúrgica Horizonte  ...     R$ 120.000,00     Minas Gerais\n",
              "35  25/03/2011         Mineradora Crescente  ...     R$ 430.000,00   Santa Catarina\n",
              "36  01/04/2011               Gasoduto Oeste  ...     R$ 210.000,00   Rio de Janeiro\n",
              "37  05/04/2011        Siderúrgica Horizonte  ...     R$ 410.000,00     Minas Gerais\n",
              "38  05/04/2011          Fertilizantes Clima  ...     R$ 380.000,00        São Paulo\n",
              "39  06/04/2011  Água Preta Telecomunicações  ...     R$ 111.000,00   Rio de Janeiro\n",
              "40  08/04/2011        Siderúrgica Horizonte  ...     R$ 135.000,00     Minas Gerais\n",
              "41  11/04/2011          Fertilizantes Clima  ...     R$ 129.000,00        São Paulo\n",
              "42  03/05/2011  Água Preta Telecomunicações  ...     R$ 382.000,00   Rio de Janeiro\n",
              "43  05/05/2011         Mineradora Crescente  ...     R$ 200.000,00   Santa Catarina\n",
              "44  05/05/2011               Gasoduto Oeste  ...     R$ 185.000,00   Rio de Janeiro\n",
              "45  10/05/2011        Siderúrgica Horizonte  ...     R$ 560.000,00     Minas Gerais\n",
              "46  10/05/2011          Fertilizantes Clima  ...      R$ 78.000,00        São Paulo\n",
              "47  18/05/2011         Mineradora Crescente  ...     R$ 590.000,00   Santa Catarina\n",
              "48  20/05/2011               Gasoduto Oeste  ...     R$ 760.000,00   Rio de Janeiro\n",
              "49  20/05/2011        Siderúrgica Horizonte  ...     R$ 210.000,00     Minas Gerais\n",
              "50  20/05/2011          Fertilizantes Clima  ...     R$ 133.000,00        São Paulo\n",
              "51  30/05/2011  Água Preta Telecomunicações  ...     R$ 231.000,00   Rio de Janeiro\n",
              "52  30/05/2011        Siderúrgica Horizonte  ...     R$ 121.000,00     Minas Gerais\n",
              "53  10/06/2011          Fertilizantes Clima  ...     R$ 113.000,00        São Paulo\n",
              "54  10/06/2011  Água Preta Telecomunicações  ...     R$ 117.000,00   Rio de Janeiro\n",
              "\n",
              "[53 rows x 7 columns]"
            ]
          },
          "metadata": {
            "tags": []
          },
          "execution_count": 26
        }
      ]
    },
    {
      "cell_type": "code",
      "metadata": {
        "id": "c_I30sftZXpv",
        "colab": {
          "base_uri": "https://localhost:8080/",
          "height": 204
        },
        "outputId": "499bf57c-97d2-4f33-fed7-911c0f40a495"
      },
      "source": [
        "df.head(5)"
      ],
      "execution_count": null,
      "outputs": [
        {
          "output_type": "execute_result",
          "data": {
            "text/html": [
              "<div>\n",
              "<style scoped>\n",
              "    .dataframe tbody tr th:only-of-type {\n",
              "        vertical-align: middle;\n",
              "    }\n",
              "\n",
              "    .dataframe tbody tr th {\n",
              "        vertical-align: top;\n",
              "    }\n",
              "\n",
              "    .dataframe thead th {\n",
              "        text-align: right;\n",
              "    }\n",
              "</style>\n",
              "<table border=\"1\" class=\"dataframe\">\n",
              "  <thead>\n",
              "    <tr style=\"text-align: right;\">\n",
              "      <th></th>\n",
              "      <th>Data</th>\n",
              "      <th>Projeto</th>\n",
              "      <th>Item</th>\n",
              "      <th>Categoria</th>\n",
              "      <th>E/S</th>\n",
              "      <th>Valor</th>\n",
              "      <th>Estado</th>\n",
              "    </tr>\n",
              "  </thead>\n",
              "  <tbody>\n",
              "    <tr>\n",
              "      <th>2</th>\n",
              "      <td>01/10/2010</td>\n",
              "      <td>Mineradora Crescente</td>\n",
              "      <td>Empréstimo Banco Verde</td>\n",
              "      <td>Empréstimos</td>\n",
              "      <td>Entrada</td>\n",
              "      <td>R$ 380.000,00</td>\n",
              "      <td>Santa Catarina</td>\n",
              "    </tr>\n",
              "    <tr>\n",
              "      <th>3</th>\n",
              "      <td>01/10/2010</td>\n",
              "      <td>Mineradora Crescente</td>\n",
              "      <td>Investimento - captação em Bolsa</td>\n",
              "      <td>Dinheiro Dos Sócios</td>\n",
              "      <td>Entrada</td>\n",
              "      <td>R$ 1.200.000,00</td>\n",
              "      <td>Santa Catarina</td>\n",
              "    </tr>\n",
              "    <tr>\n",
              "      <th>4</th>\n",
              "      <td>04/10/2010</td>\n",
              "      <td>Mineradora Crescente</td>\n",
              "      <td>Compra de Retroescavadeira</td>\n",
              "      <td>Compras À Vista</td>\n",
              "      <td>Saída</td>\n",
              "      <td>R$ 300.000,00</td>\n",
              "      <td>Santa Catarina</td>\n",
              "    </tr>\n",
              "    <tr>\n",
              "      <th>5</th>\n",
              "      <td>04/10/2010</td>\n",
              "      <td>Gasoduto Oeste</td>\n",
              "      <td>Subscrição de ações</td>\n",
              "      <td>Dinheiro Dos Sócios</td>\n",
              "      <td>Entrada</td>\n",
              "      <td>R$ 3.000.000,00</td>\n",
              "      <td>Rio de Janeiro</td>\n",
              "    </tr>\n",
              "    <tr>\n",
              "      <th>6</th>\n",
              "      <td>05/10/2010</td>\n",
              "      <td>Siderúrgica Horizonte</td>\n",
              "      <td>Venda de ações</td>\n",
              "      <td>Dinheiro Dos Sócios</td>\n",
              "      <td>Entrada</td>\n",
              "      <td>R$ 4.300.000,00</td>\n",
              "      <td>Minas Gerais</td>\n",
              "    </tr>\n",
              "  </tbody>\n",
              "</table>\n",
              "</div>"
            ],
            "text/plain": [
              "         Data                Projeto  ...             Valor           Estado\n",
              "2  01/10/2010   Mineradora Crescente  ...     R$ 380.000,00   Santa Catarina\n",
              "3  01/10/2010   Mineradora Crescente  ...   R$ 1.200.000,00   Santa Catarina\n",
              "4  04/10/2010   Mineradora Crescente  ...     R$ 300.000,00   Santa Catarina\n",
              "5  04/10/2010         Gasoduto Oeste  ...   R$ 3.000.000,00   Rio de Janeiro\n",
              "6  05/10/2010  Siderúrgica Horizonte  ...   R$ 4.300.000,00     Minas Gerais\n",
              "\n",
              "[5 rows x 7 columns]"
            ]
          },
          "metadata": {
            "tags": []
          },
          "execution_count": 30
        }
      ]
    },
    {
      "cell_type": "code",
      "metadata": {
        "colab": {
          "base_uri": "https://localhost:8080/",
          "height": 289
        },
        "id": "QY6euwozwP4p",
        "outputId": "a70185a2-73c2-4296-b9c0-bd1975e1dc62"
      },
      "source": [
        "df.tail(5)"
      ],
      "execution_count": null,
      "outputs": [
        {
          "output_type": "execute_result",
          "data": {
            "text/html": [
              "<div>\n",
              "<style scoped>\n",
              "    .dataframe tbody tr th:only-of-type {\n",
              "        vertical-align: middle;\n",
              "    }\n",
              "\n",
              "    .dataframe tbody tr th {\n",
              "        vertical-align: top;\n",
              "    }\n",
              "\n",
              "    .dataframe thead th {\n",
              "        text-align: right;\n",
              "    }\n",
              "</style>\n",
              "<table border=\"1\" class=\"dataframe\">\n",
              "  <thead>\n",
              "    <tr style=\"text-align: right;\">\n",
              "      <th></th>\n",
              "      <th>Data</th>\n",
              "      <th>Projeto</th>\n",
              "      <th>Item</th>\n",
              "      <th>Categoria</th>\n",
              "      <th>E/S</th>\n",
              "      <th>Valor</th>\n",
              "      <th>Estado</th>\n",
              "    </tr>\n",
              "  </thead>\n",
              "  <tbody>\n",
              "    <tr>\n",
              "      <th>50</th>\n",
              "      <td>20/05/2011</td>\n",
              "      <td>Fertilizantes Clima</td>\n",
              "      <td>Fornecedores - vários</td>\n",
              "      <td>Contas A Pagar</td>\n",
              "      <td>Saída</td>\n",
              "      <td>R$ 133.000,00</td>\n",
              "      <td>São Paulo</td>\n",
              "    </tr>\n",
              "    <tr>\n",
              "      <th>51</th>\n",
              "      <td>30/05/2011</td>\n",
              "      <td>Água Preta Telecomunicações</td>\n",
              "      <td>Fornecedores - vários</td>\n",
              "      <td>Contas A Pagar</td>\n",
              "      <td>Saída</td>\n",
              "      <td>R$ 231.000,00</td>\n",
              "      <td>Rio de Janeiro</td>\n",
              "    </tr>\n",
              "    <tr>\n",
              "      <th>52</th>\n",
              "      <td>30/05/2011</td>\n",
              "      <td>Siderúrgica Horizonte</td>\n",
              "      <td>Materiais diversos</td>\n",
              "      <td>Despesas Gerais De Administração</td>\n",
              "      <td>Saída</td>\n",
              "      <td>R$ 121.000,00</td>\n",
              "      <td>Minas Gerais</td>\n",
              "    </tr>\n",
              "    <tr>\n",
              "      <th>53</th>\n",
              "      <td>10/06/2011</td>\n",
              "      <td>Fertilizantes Clima</td>\n",
              "      <td>Pagamento Empréstimo Banco Amarelo</td>\n",
              "      <td>Pagamento De Empréstimos</td>\n",
              "      <td>Saída</td>\n",
              "      <td>R$ 113.000,00</td>\n",
              "      <td>São Paulo</td>\n",
              "    </tr>\n",
              "    <tr>\n",
              "      <th>54</th>\n",
              "      <td>10/06/2011</td>\n",
              "      <td>Água Preta Telecomunicações</td>\n",
              "      <td>Pagamento Banco Amarelo</td>\n",
              "      <td>Pagamento De Empréstimos</td>\n",
              "      <td>Saída</td>\n",
              "      <td>R$ 117.000,00</td>\n",
              "      <td>Rio de Janeiro</td>\n",
              "    </tr>\n",
              "  </tbody>\n",
              "</table>\n",
              "</div>"
            ],
            "text/plain": [
              "          Data                      Projeto  ...           Valor           Estado\n",
              "50  20/05/2011          Fertilizantes Clima  ...   R$ 133.000,00        São Paulo\n",
              "51  30/05/2011  Água Preta Telecomunicações  ...   R$ 231.000,00   Rio de Janeiro\n",
              "52  30/05/2011        Siderúrgica Horizonte  ...   R$ 121.000,00     Minas Gerais\n",
              "53  10/06/2011          Fertilizantes Clima  ...   R$ 113.000,00        São Paulo\n",
              "54  10/06/2011  Água Preta Telecomunicações  ...   R$ 117.000,00   Rio de Janeiro\n",
              "\n",
              "[5 rows x 7 columns]"
            ]
          },
          "metadata": {
            "tags": []
          },
          "execution_count": 32
        }
      ]
    },
    {
      "cell_type": "markdown",
      "metadata": {
        "id": "2c-woUZ2wc_g"
      },
      "source": [
        "describe () é usado para gerar estatísticas descritivas dos dados em um DataFrame ou Série do Pandas. Ele resume a tendência central e a dispersão do conjunto de dados. describe () ajuda a obter uma visão geral rápida do conjunto de dados."
      ]
    },
    {
      "cell_type": "code",
      "metadata": {
        "colab": {
          "base_uri": "https://localhost:8080/",
          "height": 173
        },
        "id": "JpJOYxYxwhRj",
        "outputId": "51045487-88ec-4d30-8fac-4d1fe701f1e4"
      },
      "source": [
        "df.describe()"
      ],
      "execution_count": null,
      "outputs": [
        {
          "output_type": "execute_result",
          "data": {
            "text/html": [
              "<div>\n",
              "<style scoped>\n",
              "    .dataframe tbody tr th:only-of-type {\n",
              "        vertical-align: middle;\n",
              "    }\n",
              "\n",
              "    .dataframe tbody tr th {\n",
              "        vertical-align: top;\n",
              "    }\n",
              "\n",
              "    .dataframe thead th {\n",
              "        text-align: right;\n",
              "    }\n",
              "</style>\n",
              "<table border=\"1\" class=\"dataframe\">\n",
              "  <thead>\n",
              "    <tr style=\"text-align: right;\">\n",
              "      <th></th>\n",
              "      <th>Data</th>\n",
              "      <th>Projeto</th>\n",
              "      <th>Item</th>\n",
              "      <th>Categoria</th>\n",
              "      <th>E/S</th>\n",
              "      <th>Valor</th>\n",
              "      <th>Estado</th>\n",
              "    </tr>\n",
              "  </thead>\n",
              "  <tbody>\n",
              "    <tr>\n",
              "      <th>count</th>\n",
              "      <td>53</td>\n",
              "      <td>53</td>\n",
              "      <td>53</td>\n",
              "      <td>53</td>\n",
              "      <td>53</td>\n",
              "      <td>53</td>\n",
              "      <td>53</td>\n",
              "    </tr>\n",
              "    <tr>\n",
              "      <th>unique</th>\n",
              "      <td>41</td>\n",
              "      <td>5</td>\n",
              "      <td>25</td>\n",
              "      <td>7</td>\n",
              "      <td>2</td>\n",
              "      <td>44</td>\n",
              "      <td>4</td>\n",
              "    </tr>\n",
              "    <tr>\n",
              "      <th>top</th>\n",
              "      <td>25/03/2011</td>\n",
              "      <td>Siderúrgica Horizonte</td>\n",
              "      <td>Duplicatas</td>\n",
              "      <td>Contas A Receber</td>\n",
              "      <td>Saída</td>\n",
              "      <td>R$ 380.000,00</td>\n",
              "      <td>Rio de Janeiro</td>\n",
              "    </tr>\n",
              "    <tr>\n",
              "      <th>freq</th>\n",
              "      <td>3</td>\n",
              "      <td>13</td>\n",
              "      <td>12</td>\n",
              "      <td>17</td>\n",
              "      <td>28</td>\n",
              "      <td>3</td>\n",
              "      <td>19</td>\n",
              "    </tr>\n",
              "  </tbody>\n",
              "</table>\n",
              "</div>"
            ],
            "text/plain": [
              "              Data                Projeto  ...           Valor           Estado\n",
              "count           53                     53  ...               53              53\n",
              "unique          41                      5  ...               44               4\n",
              "top     25/03/2011  Siderúrgica Horizonte  ...   R$ 380.000,00   Rio de Janeiro\n",
              "freq             3                     13  ...                3              19\n",
              "\n",
              "[4 rows x 7 columns]"
            ]
          },
          "metadata": {
            "tags": []
          },
          "execution_count": 12
        }
      ]
    },
    {
      "cell_type": "markdown",
      "metadata": {
        "id": "JXBAmnK-wuB-"
      },
      "source": [
        "memory_usage () retorna uma série Pandas com o uso de memória de cada coluna (em bytes) em um DataFrame Pandas. Ao especificar o atributo deep como True, podemos saber o espaço real que está sendo ocupado por cada coluna. Mais detalhes sobre memory_usage () podem ser encontrados aqui.\n",
        "\n",
        "O uso de memória de cada coluna foi fornecido como saída em uma série Pandas. É importante saber o uso de memória de um DataFrame, para que você possa resolver erros como MemoryError em Python."
      ]
    },
    {
      "cell_type": "code",
      "metadata": {
        "colab": {
          "base_uri": "https://localhost:8080/"
        },
        "id": "ipSGLKd7wxpV",
        "outputId": "4cae6df5-7c5b-4798-c343-47b59b2afc94"
      },
      "source": [
        "df.memory_usage(deep=True)"
      ],
      "execution_count": null,
      "outputs": [
        {
          "output_type": "execute_result",
          "data": {
            "text/plain": [
              "Index         132\n",
              "Data         3551\n",
              "Projeto      4687\n",
              "Item         4715\n",
              "Categoria    4519\n",
              "E/S          4008\n",
              " Valor       3814\n",
              "Estado       3965\n",
              "dtype: int64"
            ]
          },
          "metadata": {
            "tags": []
          },
          "execution_count": 13
        }
      ]
    },
    {
      "cell_type": "markdown",
      "metadata": {
        "id": "C2y4sgptxIPT"
      },
      "source": [
        "### loc [:] \n",
        "Ajuda a acessar um grupo de linhas e colunas em um conjunto de dados, uma fatia do conjunto de dados, conforme nossa necessidade. Por exemplo, se quisermos apenas as 2 últimas linhas e as 3 primeiras colunas de um conjunto de dados, podemos acessá-los com a ajuda de loc [:]. Também podemos acessar linhas e colunas com base em rótulos em vez de número de linha e coluna."
      ]
    },
    {
      "cell_type": "code",
      "metadata": {
        "colab": {
          "base_uri": "https://localhost:8080/",
          "height": 204
        },
        "id": "8M2PW1t-xPN0",
        "outputId": "0ea5eb66-9127-4c9a-ac12-42f7754b5543"
      },
      "source": [
        "df.loc[20:24, ['Data', 'Projeto', 'Categoria']]\n"
      ],
      "execution_count": null,
      "outputs": [
        {
          "output_type": "execute_result",
          "data": {
            "text/html": [
              "<div>\n",
              "<style scoped>\n",
              "    .dataframe tbody tr th:only-of-type {\n",
              "        vertical-align: middle;\n",
              "    }\n",
              "\n",
              "    .dataframe tbody tr th {\n",
              "        vertical-align: top;\n",
              "    }\n",
              "\n",
              "    .dataframe thead th {\n",
              "        text-align: right;\n",
              "    }\n",
              "</style>\n",
              "<table border=\"1\" class=\"dataframe\">\n",
              "  <thead>\n",
              "    <tr style=\"text-align: right;\">\n",
              "      <th></th>\n",
              "      <th>Data</th>\n",
              "      <th>Projeto</th>\n",
              "      <th>Categoria</th>\n",
              "    </tr>\n",
              "  </thead>\n",
              "  <tbody>\n",
              "    <tr>\n",
              "      <th>20</th>\n",
              "      <td>05/01/2011</td>\n",
              "      <td>Fertilizantes Clima</td>\n",
              "      <td>Contas A Receber</td>\n",
              "    </tr>\n",
              "    <tr>\n",
              "      <th>21</th>\n",
              "      <td>07/01/2011</td>\n",
              "      <td>Fertilizantes Clima</td>\n",
              "      <td>Contas A Pagar</td>\n",
              "    </tr>\n",
              "    <tr>\n",
              "      <th>22</th>\n",
              "      <td>10/01/2011</td>\n",
              "      <td>Gasoduto Oeste</td>\n",
              "      <td>Contas A Receber</td>\n",
              "    </tr>\n",
              "    <tr>\n",
              "      <th>23</th>\n",
              "      <td>10/01/2011</td>\n",
              "      <td>Siderúrgica Horizonte</td>\n",
              "      <td>Contas A Receber</td>\n",
              "    </tr>\n",
              "    <tr>\n",
              "      <th>24</th>\n",
              "      <td>18/01/2011</td>\n",
              "      <td>Siderúrgica Horizonte</td>\n",
              "      <td>Contas A Pagar</td>\n",
              "    </tr>\n",
              "  </tbody>\n",
              "</table>\n",
              "</div>"
            ],
            "text/plain": [
              "          Data                Projeto         Categoria\n",
              "20  05/01/2011    Fertilizantes Clima  Contas A Receber\n",
              "21  07/01/2011    Fertilizantes Clima    Contas A Pagar\n",
              "22  10/01/2011         Gasoduto Oeste  Contas A Receber\n",
              "23  10/01/2011  Siderúrgica Horizonte  Contas A Receber\n",
              "24  18/01/2011  Siderúrgica Horizonte    Contas A Pagar"
            ]
          },
          "metadata": {
            "tags": []
          },
          "execution_count": 36
        }
      ]
    },
    {
      "cell_type": "markdown",
      "metadata": {
        "id": "xVY4KkEtyvhN"
      },
      "source": [
        "### value_counts ()\n",
        "value_counts () retorna uma série Pandas contendo as contagens de valores únicos. Considere um conjunto de dados que contém informações de clientes sobre 5.000 clientes de uma empresa. value_counts () nos ajudará a identificar o número de ocorrências de cada valor único em uma série. Ele pode ser aplicado a colunas contendo dados como Estado, Indústria de emprego ou idade dos clientes."
      ]
    },
    {
      "cell_type": "code",
      "metadata": {
        "colab": {
          "base_uri": "https://localhost:8080/"
        },
        "id": "SolQonm4yYcl",
        "outputId": "e9a4c8ce-fdd5-4ea9-c7fb-dcf5695c013f"
      },
      "source": [
        "contagemEntradasSaidas = df['E/S'].value_counts()\n",
        "contagemEntradasSaidas"
      ],
      "execution_count": null,
      "outputs": [
        {
          "output_type": "execute_result",
          "data": {
            "text/plain": [
              "Saída      28\n",
              "Entrada    25\n",
              "Name: E/S, dtype: int64"
            ]
          },
          "metadata": {
            "tags": []
          },
          "execution_count": 38
        }
      ]
    },
    {
      "cell_type": "code",
      "metadata": {
        "colab": {
          "base_uri": "https://localhost:8080/"
        },
        "id": "C8ioEMO0bas1",
        "outputId": "0fae0d52-61fd-487b-a340-9f367d4ccfc3"
      },
      "source": [
        "contagemProjetos = df['Projeto'].value_counts()\n",
        "contagemProjetos"
      ],
      "execution_count": null,
      "outputs": [
        {
          "output_type": "execute_result",
          "data": {
            "text/plain": [
              "Siderúrgica Horizonte          13\n",
              "Fertilizantes Clima            12\n",
              "Água Preta Telecomunicações    11\n",
              "Mineradora Crescente            9\n",
              "Gasoduto Oeste                  8\n",
              "Name: Projeto, dtype: int64"
            ]
          },
          "metadata": {
            "tags": []
          },
          "execution_count": 39
        }
      ]
    },
    {
      "cell_type": "code",
      "metadata": {
        "colab": {
          "base_uri": "https://localhost:8080/"
        },
        "id": "vvzo8X9YbxWw",
        "outputId": "3f03fbae-4720-476c-f01b-53e06dfb18a8"
      },
      "source": [
        "contagemEstados = df['Estado'].value_counts()\n",
        "contagemEstados"
      ],
      "execution_count": null,
      "outputs": [
        {
          "output_type": "execute_result",
          "data": {
            "text/plain": [
              "Rio de Janeiro    19\n",
              "Minas Gerais      13\n",
              "São Paulo         12\n",
              "Santa Catarina     9\n",
              "Name: Estado, dtype: int64"
            ]
          },
          "metadata": {
            "tags": []
          },
          "execution_count": 40
        }
      ]
    },
    {
      "cell_type": "code",
      "metadata": {
        "colab": {
          "base_uri": "https://localhost:8080/",
          "height": 281
        },
        "id": "bmpx8YtL6HGP",
        "outputId": "cbf4d39e-893c-4aa0-98ed-705f12906081"
      },
      "source": [
        "import numpy as np\n",
        "from matplotlib import pyplot as plt\n",
        "\n",
        "y = 200 + np.random.randn(100)\n",
        "x = [x for x in range(len(y))]\n",
        "\n",
        "plt.plot(x, y, '-')\n",
        "plt.fill_between(x, y, 195, where=(y > 195), facecolor='g', alpha=0.6)\n",
        "\n",
        "plt.title(\"Sample Visualization\")\n",
        "plt.show()"
      ],
      "execution_count": null,
      "outputs": [
        {
          "output_type": "display_data",
          "data": {
            "image/png": "[encoded data removed]",
            "text/plain": [
              "<Figure size 432x288 with 1 Axes>"
            ]
          },
          "metadata": {
            "tags": [],
            "needs_background": "light"
          }
        }
      ]
    },
    {
      "cell_type": "code",
      "metadata": {
        "colab": {
          "base_uri": "https://localhost:8080/",
          "height": 542
        },
        "id": "z0x4nHpVPS1O",
        "outputId": "a4d29d84-5ce6-40c9-884c-8f356f16b50a"
      },
      "source": [
        "import pandas as pd\n",
        "import plotly.express as px\n",
        "import pandas as pd\n",
        "path = '/content/drive/MyDrive/MovimentoFinanceiroCSV.csv'\n",
        "df = pd.read_csv(path, sep=';', encoding = \"ISO-8859-1\")\n",
        "\n",
        "names = df.iloc[1, :].values\n",
        "df = df.iloc[2:, :]\n",
        "df.columns = names\n",
        "\n",
        "fig = px.line(df, x = 'Projeto', y = ' Valor ', title='Meu primeiro gráfico Python')\n",
        "fig.show()\n",
        "\n",
        "\n",
        "\n"
      ],
      "execution_count": null,
      "outputs": [
        {
          "output_type": "display_data",
          "data": {
            "text/html": [
              "<html>\n",
              "<head><meta charset=\"utf-8\" /></head>\n",
              "<body>\n",
              "    <div>\n",
              "            <script src=\"https://cdnjs.cloudflare.com/ajax/libs/mathjax/2.7.5/MathJax.js?config=TeX-AMS-MML_SVG\"></script><script type=\"text/javascript\">if (window.MathJax) {MathJax.Hub.Config({SVG: {font: \"STIX-Web\"}});}</script>\n",
              "                <script type=\"text/javascript\">window.PlotlyConfig = {MathJaxConfig: 'local'};</script>\n",
              "        <script src=\"https://cdn.plot.ly/plotly-latest.min.js\"></script>    \n",
              "            <div id=\"a46473bb-368a-4f26-9220-98ae67a75b74\" class=\"plotly-graph-div\" style=\"height:525px; width:100%;\"></div>\n",
              "            <script type=\"text/javascript\">\n",
              "                \n",
              "                    window.PLOTLYENV=window.PLOTLYENV || {};\n",
              "                    \n",
              "                if (document.getElementById(\"a46473bb-368a-4f26-9220-98ae67a75b74\")) {\n",
              "                    Plotly.newPlot(\n",
              "                        'a46473bb-368a-4f26-9220-98ae67a75b74',\n",
              "                        [{\"hoverlabel\": {\"namelength\": 0}, \"hovertemplate\": \"Projeto=%{x}<br> Valor =%{y}\", \"legendgroup\": \"\", \"line\": {\"color\": \"#636efa\", \"dash\": \"solid\"}, \"mode\": \"lines\", \"name\": \"\", \"showlegend\": false, \"type\": \"scatter\", \"x\": [\"Mineradora Crescente\", \"Mineradora Crescente\", \"Mineradora Crescente\", \"Gasoduto Oeste\", \"Sider\\u00fargica Horizonte\", \"Fertilizantes Clima\", \"\\u00c1gua Preta Telecomunica\\u00e7\\u00f5es\", \"Sider\\u00fargica Horizonte\", \"Fertilizantes Clima\", \"\\u00c1gua Preta Telecomunica\\u00e7\\u00f5es\", \"Mineradora Crescente\", \"Gasoduto Oeste\", \"Sider\\u00fargica Horizonte\", \"Fertilizantes Clima\", \"\\u00c1gua Preta Telecomunica\\u00e7\\u00f5es\", \"Sider\\u00fargica Horizonte\", \"\\u00c1gua Preta Telecomunica\\u00e7\\u00f5es\", \"\\u00c1gua Preta Telecomunica\\u00e7\\u00f5es\", \"Fertilizantes Clima\", \"Fertilizantes Clima\", \"Gasoduto Oeste\", \"Sider\\u00fargica Horizonte\", \"Sider\\u00fargica Horizonte\", \"Mineradora Crescente\", \"Mineradora Crescente\", \"Gasoduto Oeste\", \"Gasoduto Oeste\", \"Fertilizantes Clima\", \"Fertilizantes Clima\", \"\\u00c1gua Preta Telecomunica\\u00e7\\u00f5es\", \"\\u00c1gua Preta Telecomunica\\u00e7\\u00f5es\", \"Sider\\u00fargica Horizonte\", \"Sider\\u00fargica Horizonte\", \"Mineradora Crescente\", \"Gasoduto Oeste\", \"Sider\\u00fargica Horizonte\", \"Fertilizantes Clima\", \"\\u00c1gua Preta Telecomunica\\u00e7\\u00f5es\", \"Sider\\u00fargica Horizonte\", \"Fertilizantes Clima\", \"\\u00c1gua Preta Telecomunica\\u00e7\\u00f5es\", \"Mineradora Crescente\", \"Gasoduto Oeste\", \"Sider\\u00fargica Horizonte\", \"Fertilizantes Clima\", \"Mineradora Crescente\", \"Gasoduto Oeste\", \"Sider\\u00fargica Horizonte\", \"Fertilizantes Clima\", \"\\u00c1gua Preta Telecomunica\\u00e7\\u00f5es\", \"Sider\\u00fargica Horizonte\", \"Fertilizantes Clima\", \"\\u00c1gua Preta Telecomunica\\u00e7\\u00f5es\"], \"xaxis\": \"x\", \"y\": [\" R$ 380.000,00 \", \" R$ 1.200.000,00 \", \" R$ 300.000,00 \", \" R$ 3.000.000,00 \", \" R$ 4.300.000,00 \", \" R$ 600.000,00 \", \" R$ 326.000,00 \", \" R$ 213.000,00 \", \" R$ 900.000,00 \", \" R$ 98.000,00 \", \" R$ 313.000,00 \", \" R$ 125.000,00 \", \" R$ 7.200,00 \", \" R$ 40.000,00 \", \" R$ 178.000,00 \", \" R$ 380.000,00 \", \" R$ 53.000,00 \", \" R$ 400.000,00 \", \" R$ 230.000,00 \", \" R$ 178.000,00 \", \" R$ 300.000,00 \", \" R$ 400.000,00 \", \" R$ 123.000,00 \", \" R$ 450.000,00 \", \" R$ 230.000,00 \", \" R$ 670.000,00 \", \" R$ 230.000,00 \", \" R$ 5.600,00 \", \" R$ 111.000,00 \", \" R$ 211.000,00 \", \" R$ 890.000,00 \", \" R$ 390.000,00 \", \" R$ 120.000,00 \", \" R$ 430.000,00 \", \" R$ 210.000,00 \", \" R$ 410.000,00 \", \" R$ 380.000,00 \", \" R$ 111.000,00 \", \" R$ 135.000,00 \", \" R$ 129.000,00 \", \" R$ 382.000,00 \", \" R$ 200.000,00 \", \" R$ 185.000,00 \", \" R$ 560.000,00 \", \" R$ 78.000,00 \", \" R$ 590.000,00 \", \" R$ 760.000,00 \", \" R$ 210.000,00 \", \" R$ 133.000,00 \", \" R$ 231.000,00 \", \" R$ 121.000,00 \", \" R$ 113.000,00 \", \" R$ 117.000,00 \"], \"yaxis\": \"y\"}],\n",
              "                        {\"legend\": {\"tracegroupgap\": 0}, \"template\": {\"data\": {\"bar\": [{\"error_x\": {\"color\": \"#2a3f5f\"}, \"error_y\": {\"color\": \"#2a3f5f\"}, \"marker\": {\"line\": {\"color\": \"#E5ECF6\", \"width\": 0.5}}, \"type\": \"bar\"}], \"barpolar\": [{\"marker\": {\"line\": {\"color\": \"#E5ECF6\", \"width\": 0.5}}, \"type\": \"barpolar\"}], \"carpet\": [{\"aaxis\": {\"endlinecolor\": \"#2a3f5f\", \"gridcolor\": \"white\", \"linecolor\": \"white\", \"minorgridcolor\": \"white\", \"startlinecolor\": \"#2a3f5f\"}, \"baxis\": {\"endlinecolor\": \"#2a3f5f\", \"gridcolor\": \"white\", \"linecolor\": \"white\", \"minorgridcolor\": \"white\", \"startlinecolor\": \"#2a3f5f\"}, \"type\": \"carpet\"}], \"choropleth\": [{\"colorbar\": {\"outlinewidth\": 0, \"ticks\": \"\"}, \"type\": \"choropleth\"}], \"contour\": [{\"colorbar\": {\"outlinewidth\": 0, \"ticks\": \"\"}, \"colorscale\": [[0.0, \"#0d0887\"], [0.1111111111111111, \"#46039f\"], [0.2222222222222222, \"#7201a8\"], [0.3333333333333333, \"#9c179e\"], [0.4444444444444444, \"#bd3786\"], [0.5555555555555556, \"#d8576b\"], [0.6666666666666666, \"#ed7953\"], [0.7777777777777778, \"#fb9f3a\"], [0.8888888888888888, \"#fdca26\"], [1.0, \"#f0f921\"]], \"type\": \"contour\"}], \"contourcarpet\": [{\"colorbar\": {\"outlinewidth\": 0, \"ticks\": \"\"}, \"type\": \"contourcarpet\"}], \"heatmap\": [{\"colorbar\": {\"outlinewidth\": 0, \"ticks\": \"\"}, \"colorscale\": [[0.0, \"#0d0887\"], [0.1111111111111111, \"#46039f\"], [0.2222222222222222, \"#7201a8\"], [0.3333333333333333, \"#9c179e\"], [0.4444444444444444, \"#bd3786\"], [0.5555555555555556, \"#d8576b\"], [0.6666666666666666, \"#ed7953\"], [0.7777777777777778, \"#fb9f3a\"], [0.8888888888888888, \"#fdca26\"], [1.0, \"#f0f921\"]], \"type\": \"heatmap\"}], \"heatmapgl\": [{\"colorbar\": {\"outlinewidth\": 0, \"ticks\": \"\"}, \"colorscale\": [[0.0, \"#0d0887\"], [0.1111111111111111, \"#46039f\"], [0.2222222222222222, \"#7201a8\"], [0.3333333333333333, \"#9c179e\"], [0.4444444444444444, \"#bd3786\"], [0.5555555555555556, \"#d8576b\"], [0.6666666666666666, \"#ed7953\"], [0.7777777777777778, \"#fb9f3a\"], [0.8888888888888888, \"#fdca26\"], [1.0, \"#f0f921\"]], \"type\": \"heatmapgl\"}], \"histogram\": [{\"marker\": {\"colorbar\": {\"outlinewidth\": 0, \"ticks\": \"\"}}, \"type\": \"histogram\"}], \"histogram2d\": [{\"colorbar\": {\"outlinewidth\": 0, \"ticks\": \"\"}, \"colorscale\": [[0.0, \"#0d0887\"], [0.1111111111111111, \"#46039f\"], [0.2222222222222222, \"#7201a8\"], [0.3333333333333333, \"#9c179e\"], [0.4444444444444444, \"#bd3786\"], [0.5555555555555556, \"#d8576b\"], [0.6666666666666666, \"#ed7953\"], [0.7777777777777778, \"#fb9f3a\"], [0.8888888888888888, \"#fdca26\"], [1.0, \"#f0f921\"]], \"type\": \"histogram2d\"}], \"histogram2dcontour\": [{\"colorbar\": {\"outlinewidth\": 0, \"ticks\": \"\"}, \"colorscale\": [[0.0, \"#0d0887\"], [0.1111111111111111, \"#46039f\"], [0.2222222222222222, \"#7201a8\"], [0.3333333333333333, \"#9c179e\"], [0.4444444444444444, \"#bd3786\"], [0.5555555555555556, \"#d8576b\"], [0.6666666666666666, \"#ed7953\"], [0.7777777777777778, \"#fb9f3a\"], [0.8888888888888888, \"#fdca26\"], [1.0, \"#f0f921\"]], \"type\": \"histogram2dcontour\"}], \"mesh3d\": [{\"colorbar\": {\"outlinewidth\": 0, \"ticks\": \"\"}, \"type\": \"mesh3d\"}], \"parcoords\": [{\"line\": {\"colorbar\": {\"outlinewidth\": 0, \"ticks\": \"\"}}, \"type\": \"parcoords\"}], \"pie\": [{\"automargin\": true, \"type\": \"pie\"}], \"scatter\": [{\"marker\": {\"colorbar\": {\"outlinewidth\": 0, \"ticks\": \"\"}}, \"type\": \"scatter\"}], \"scatter3d\": [{\"line\": {\"colorbar\": {\"outlinewidth\": 0, \"ticks\": \"\"}}, \"marker\": {\"colorbar\": {\"outlinewidth\": 0, \"ticks\": \"\"}}, \"type\": \"scatter3d\"}], \"scattercarpet\": [{\"marker\": {\"colorbar\": {\"outlinewidth\": 0, \"ticks\": \"\"}}, \"type\": \"scattercarpet\"}], \"scattergeo\": [{\"marker\": {\"colorbar\": {\"outlinewidth\": 0, \"ticks\": \"\"}}, \"type\": \"scattergeo\"}], \"scattergl\": [{\"marker\": {\"colorbar\": {\"outlinewidth\": 0, \"ticks\": \"\"}}, \"type\": \"scattergl\"}], \"scattermapbox\": [{\"marker\": {\"colorbar\": {\"outlinewidth\": 0, \"ticks\": \"\"}}, \"type\": \"scattermapbox\"}], \"scatterpolar\": [{\"marker\": {\"colorbar\": {\"outlinewidth\": 0, \"ticks\": \"\"}}, \"type\": \"scatterpolar\"}], \"scatterpolargl\": [{\"marker\": {\"colorbar\": {\"outlinewidth\": 0, \"ticks\": \"\"}}, \"type\": \"scatterpolargl\"}], \"scatterternary\": [{\"marker\": {\"colorbar\": {\"outlinewidth\": 0, \"ticks\": \"\"}}, \"type\": \"scatterternary\"}], \"surface\": [{\"colorbar\": {\"outlinewidth\": 0, \"ticks\": \"\"}, \"colorscale\": [[0.0, \"#0d0887\"], [0.1111111111111111, \"#46039f\"], [0.2222222222222222, \"#7201a8\"], [0.3333333333333333, \"#9c179e\"], [0.4444444444444444, \"#bd3786\"], [0.5555555555555556, \"#d8576b\"], [0.6666666666666666, \"#ed7953\"], [0.7777777777777778, \"#fb9f3a\"], [0.8888888888888888, \"#fdca26\"], [1.0, \"#f0f921\"]], \"type\": \"surface\"}], \"table\": [{\"cells\": {\"fill\": {\"color\": \"#EBF0F8\"}, \"line\": {\"color\": \"white\"}}, \"header\": {\"fill\": {\"color\": \"#C8D4E3\"}, \"line\": {\"color\": \"white\"}}, \"type\": \"table\"}]}, \"layout\": {\"annotationdefaults\": {\"arrowcolor\": \"#2a3f5f\", \"arrowhead\": 0, \"arrowwidth\": 1}, \"coloraxis\": {\"colorbar\": {\"outlinewidth\": 0, \"ticks\": \"\"}}, \"colorscale\": {\"diverging\": [[0, \"#8e0152\"], [0.1, \"#c51b7d\"], [0.2, \"#de77ae\"], [0.3, \"#f1b6da\"], [0.4, \"#fde0ef\"], [0.5, \"#f7f7f7\"], [0.6, \"#e6f5d0\"], [0.7, \"#b8e186\"], [0.8, \"#7fbc41\"], [0.9, \"#4d9221\"], [1, \"#276419\"]], \"sequential\": [[0.0, \"#0d0887\"], [0.1111111111111111, \"#46039f\"], [0.2222222222222222, \"#7201a8\"], [0.3333333333333333, \"#9c179e\"], [0.4444444444444444, \"#bd3786\"], [0.5555555555555556, \"#d8576b\"], [0.6666666666666666, \"#ed7953\"], [0.7777777777777778, \"#fb9f3a\"], [0.8888888888888888, \"#fdca26\"], [1.0, \"#f0f921\"]], \"sequentialminus\": [[0.0, \"#0d0887\"], [0.1111111111111111, \"#46039f\"], [0.2222222222222222, \"#7201a8\"], [0.3333333333333333, \"#9c179e\"], [0.4444444444444444, \"#bd3786\"], [0.5555555555555556, \"#d8576b\"], [0.6666666666666666, \"#ed7953\"], [0.7777777777777778, \"#fb9f3a\"], [0.8888888888888888, \"#fdca26\"], [1.0, \"#f0f921\"]]}, \"colorway\": [\"#636efa\", \"#EF553B\", \"#00cc96\", \"#ab63fa\", \"#FFA15A\", \"#19d3f3\", \"#FF6692\", \"#B6E880\", \"#FF97FF\", \"#FECB52\"], \"font\": {\"color\": \"#2a3f5f\"}, \"geo\": {\"bgcolor\": \"white\", \"lakecolor\": \"white\", \"landcolor\": \"#E5ECF6\", \"showlakes\": true, \"showland\": true, \"subunitcolor\": \"white\"}, \"hoverlabel\": {\"align\": \"left\"}, \"hovermode\": \"closest\", \"mapbox\": {\"style\": \"light\"}, \"paper_bgcolor\": \"white\", \"plot_bgcolor\": \"#E5ECF6\", \"polar\": {\"angularaxis\": {\"gridcolor\": \"white\", \"linecolor\": \"white\", \"ticks\": \"\"}, \"bgcolor\": \"#E5ECF6\", \"radialaxis\": {\"gridcolor\": \"white\", \"linecolor\": \"white\", \"ticks\": \"\"}}, \"scene\": {\"xaxis\": {\"backgroundcolor\": \"#E5ECF6\", \"gridcolor\": \"white\", \"gridwidth\": 2, \"linecolor\": \"white\", \"showbackground\": true, \"ticks\": \"\", \"zerolinecolor\": \"white\"}, \"yaxis\": {\"backgroundcolor\": \"#E5ECF6\", \"gridcolor\": \"white\", \"gridwidth\": 2, \"linecolor\": \"white\", \"showbackground\": true, \"ticks\": \"\", \"zerolinecolor\": \"white\"}, \"zaxis\": {\"backgroundcolor\": \"#E5ECF6\", \"gridcolor\": \"white\", \"gridwidth\": 2, \"linecolor\": \"white\", \"showbackground\": true, \"ticks\": \"\", \"zerolinecolor\": \"white\"}}, \"shapedefaults\": {\"line\": {\"color\": \"#2a3f5f\"}}, \"ternary\": {\"aaxis\": {\"gridcolor\": \"white\", \"linecolor\": \"white\", \"ticks\": \"\"}, \"baxis\": {\"gridcolor\": \"white\", \"linecolor\": \"white\", \"ticks\": \"\"}, \"bgcolor\": \"#E5ECF6\", \"caxis\": {\"gridcolor\": \"white\", \"linecolor\": \"white\", \"ticks\": \"\"}}, \"title\": {\"x\": 0.05}, \"xaxis\": {\"automargin\": true, \"gridcolor\": \"white\", \"linecolor\": \"white\", \"ticks\": \"\", \"title\": {\"standoff\": 15}, \"zerolinecolor\": \"white\", \"zerolinewidth\": 2}, \"yaxis\": {\"automargin\": true, \"gridcolor\": \"white\", \"linecolor\": \"white\", \"ticks\": \"\", \"title\": {\"standoff\": 15}, \"zerolinecolor\": \"white\", \"zerolinewidth\": 2}}}, \"title\": {\"text\": \"Meu primeiro gr\\u00e1fico Python\"}, \"xaxis\": {\"anchor\": \"y\", \"domain\": [0.0, 1.0], \"title\": {\"text\": \"Projeto\"}}, \"yaxis\": {\"anchor\": \"x\", \"domain\": [0.0, 1.0], \"title\": {\"text\": \" Valor \"}}},\n",
              "                        {\"responsive\": true}\n",
              "                    ).then(function(){\n",
              "                            \n",
              "var gd = document.getElementById('a46473bb-368a-4f26-9220-98ae67a75b74');\n",
              "var x = new MutationObserver(function (mutations, observer) {{\n",
              "        var display = window.getComputedStyle(gd).display;\n",
              "        if (!display || display === 'none') {{\n",
              "            console.log([gd, 'removed!']);\n",
              "            Plotly.purge(gd);\n",
              "            observer.disconnect();\n",
              "        }}\n",
              "}});\n",
              "\n",
              "// Listen for the removal of the full notebook cells\n",
              "var notebookContainer = gd.closest('#notebook-container');\n",
              "if (notebookContainer) {{\n",
              "    x.observe(notebookContainer, {childList: true});\n",
              "}}\n",
              "\n",
              "// Listen for the clearing of the current output cell\n",
              "var outputEl = gd.closest('.output');\n",
              "if (outputEl) {{\n",
              "    x.observe(outputEl, {childList: true});\n",
              "}}\n",
              "\n",
              "                        })\n",
              "                };\n",
              "                \n",
              "            </script>\n",
              "        </div>\n",
              "</body>\n",
              "</html>"
            ]
          },
          "metadata": {
            "tags": []
          }
        }
      ]
    },
    {
      "cell_type": "markdown",
      "metadata": {
        "id": "kVjdfiTTRVjC"
      },
      "source": [
        "## Referência Bibliográfica\n",
        "#https://plotly.com/python/plot-data-from-csv/"
      ]
    }
  ]
}